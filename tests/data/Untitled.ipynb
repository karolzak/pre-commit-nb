{
  "cells": [
   {
    "cell_type": "code",
    "execution_count": null,
    "metadata": {},
    "outputs": [],
    "source": [
     "asa"
    ]
   },
   {
    "cell_type": "code",
    "execution_count": 8,
    "metadata": {
     "ExecuteTime": {
      "end_time": "2020-09-02T21:52:01.534091Z",
      "start_time": "2020-09-02T21:52:01.528088Z"
     }
    },
    "outputs": [
     {
      "data": {
       "text/html": [
        "<img src=\"https://a6p8a2b3.stackpathcdn.com/9S2jSVBcrgaDeEaG2FESOBRkehQ=/600x0/smart/filters:no_upscale()/rockol-img/img/foto/upload/Duke%20Spirit.jpg\"/>"
       ],
       "text/plain": [
        "<IPython.core.display.Image object>"
       ]
      },
      "execution_count": 8,
      "metadata": {},
      "output_type": "execute_result"
     }
    ],
    "source": [
     "from IPython.display import Image\n",
     "Image(url='https://a6p8a2b3.stackpathcdn.com/9S2jSVBcrgaDeEaG2FESOBRkehQ=/600x0/smart/filters:no_upscale()/rockol-img/img/foto/upload/Duke%20Spirit.jpg') "
    ]
   },
   {
    "cell_type": "code",
    "execution_count": 9,
    "metadata": {
     "ExecuteTime": {
      "end_time": "2020-09-02T21:52:01.948082Z",
      "start_time": "2020-09-02T21:52:01.940082Z"
     }
    },
    "outputs": [
     {
      "data": {
       "text/html": [
            "<img src=\"./nb_images/e853205a-f1f3-4cc7-bbf0-655de8f85493.jpeg\"/>"
        ],
       "text/plain": [
        "<IPython.core.display.Image object>"
       ]
      },
      "execution_count": 9,
      "metadata": {},
      "output_type": "execute_result"
     }
    ],
    "source": [
     "from IPython.display import Image\n",
     "Image(filename='test.jpg') "
    ]
   },
   {
    "cell_type": "code",
    "execution_count": 10,
    "metadata": {
     "ExecuteTime": {
      "end_time": "2020-09-02T21:52:02.273099Z",
      "start_time": "2020-09-02T21:52:02.181065Z"
     }
    },
    "outputs": [
     {
      "data": {
       "text/html": [
            "<img src=\"./nb_images/5cf406d0-ccda-4141-a308-93eeced9e5d5.png\"/>"
        ],
       "text/plain": [
        "<PIL.JpegImagePlugin.JpegImageFile image mode=RGB size=600x398 at 0x23141524B00>"
       ]
      },
      "execution_count": 10,
      "metadata": {},
      "output_type": "execute_result"
     }
    ],
    "source": [
     "from PIL import Image\n",
     "Image.open(\"test.jpg\")"
    ]
   },
   {
    "cell_type": "code",
    "execution_count": 11,
    "metadata": {
     "ExecuteTime": {
      "end_time": "2020-09-02T21:52:02.866123Z",
      "start_time": "2020-09-02T21:52:02.463097Z"
     },
     "scrolled": false
    },
    "outputs": [
     {
      "data": {
       "text/html": [
            "<img src=\"./nb_images/6c7bbd09-f046-45a3-8edc-35ed2215b26b.png\"/>"
        ],
       "text/plain": [
        "<Figure size 432x288 with 1 Axes>"
       ]
      },
      "metadata": {
       "needs_background": "light"
      },
      "output_type": "display_data"
     },
     {
      "data": {
       "text/html": [
            "<img src=\"./nb_images/6c7bbd09-f046-45a3-8edc-35ed2215b26b.png\"/>"
        ],
       "text/plain": [
        "<Figure size 432x288 with 1 Axes>"
       ]
      },
      "metadata": {
       "needs_background": "light"
      },
      "output_type": "display_data"
     }
    ],
    "source": [
     "import matplotlib.pyplot as plt\n",
     "import numpy as np\n",
     "\n",
     "%matplotlib inline\n",
     "\n",
     "img_arr = np.asarray(Image.open(\"test.jpg\"))\n",
     "\n",
     "plt.imshow(img_arr)\n",
     "plt.show()\n",
     "plt.imshow(img_arr)\n",
     "plt.show()"
    ]
   },
   {
    "cell_type": "code",
    "execution_count": null,
    "metadata": {},
    "outputs": [],
    "source": []
   },
   {
    "cell_type": "code",
    "execution_count": null,
    "metadata": {},
    "outputs": [],
    "source": []
   },
   {
    "cell_type": "code",
    "execution_count": null,
    "metadata": {},
    "outputs": [],
    "source": []
   }
  ],
  "metadata": {
   "kernelspec": {
    "display_name": "Python [conda env:py36tf2gpu]",
    "language": "python",
    "name": "conda-env-py36tf2gpu-py"
   },
   "language_info": {
    "codemirror_mode": {
     "name": "ipython",
     "version": 3
    },
    "file_extension": ".py",
    "mimetype": "text/x-python",
    "name": "python",
    "nbconvert_exporter": "python",
    "pygments_lexer": "ipython3",
    "version": "3.6.9"
   }
  },
  "nbformat": 4,
  "nbformat_minor": 2
 }